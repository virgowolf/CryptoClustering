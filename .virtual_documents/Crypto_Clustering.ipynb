# Import required libraries and dependencies
import pandas as pd
import hvplot.pandas
from sklearn.cluster import KMeans
from sklearn.decomposition import PCA
from sklearn.preprocessing import StandardScaler
import numpy as np
import holoviews as hv
hv.extension('bokeh')


# Load the data into a Pandas DataFrame
df_market_data = pd.read_csv(
    "Resources/crypto_market_data.csv",
    index_col="coin_id")

# Display sample data
df_market_data.head(10)


# Generate summary statistics
df_market_data.describe()


# Plot your data to see what's in your DataFrame
df_market_data.hvplot.line(
    width=800,
    height=400,
    rot=90
)








# Use the `StandardScaler()` module from scikit-learn to normalize the data from the CSV file
market_data_scaled = StandardScaler().fit_transform(df_market_data)


# Create a DataFrame with the scaled data
df_market_data_scaled = pd.DataFrame(
    market_data_scaled,
    columns=['price_change_percentage_24h',
             'price_change_percentage_7d',	
             'price_change_percentage_14d',	
             'price_change_percentage_30d',
             'price_change_percentage_60d',
             'price_change_percentage_200d',
             'price_change_percentage_1y']
)


# Copy the crypto names from the original data
df_market_data_scaled['coin_id'] = df_market_data.index

# Set the coinid column as index
df_market_data_scaled = df_market_data_scaled.set_index('coin_id')

# Display sample data
df_market_data_scaled.head()








import warnings
warnings.filterwarnings("ignore")


# Create a list with the number of k-values from 1 to 11
k = list(range(1,11))


# Create an empty list to store the inertia values
inertia1 = []

# Create a for loop to compute the inertia with each possible value of k
# 1. Create a KMeans model using the loop counter for the n_clusters
# 2. Fit the model to the data using `df_market_data_scaled`
# 3. Append the model.inertia_ to the inertia list
for i in k:
    k_model = KMeans(n_clusters=i, random_state=42)
    k_model.fit(df_market_data_scaled)
    inertia1.append(k_model.inertia_)


# Create a dictionary with the data to plot the Elbow curve
elbow_data1 = {"k": k, "inertia": inertia1}

# Create a DataFrame with the data to plot the Elbow curve
df_elbow1 = pd.DataFrame(elbow_data1)

#Review the DataFrame
df_elbow1.head()


# Plot a line chart with all the inertia values computed with 
# the different values of k to visually identify the optimal value for k.
df_elbow1.hvplot.line(
    x="k",
    y="inertia",
    title= "Elbow Curve 1",
    xticks=k
)











# Initialize the K-Means model using the best value for k
model = KMeans(n_clusters=3, random_state=42)


# Fit the K-Means model using the scaled data
model.fit(df_market_data_scaled)


# Predict the clusters to group the cryptocurrencies using the scaled data
market_clusters = model.predict(df_market_data_scaled)

# Print the resulting array of cluster values.
print(market_clusters)


# Compute centers for predicted clusters
market_cluster_centers = model.cluster_centers_


# Create a copy of the DataFrame
df_market_scaled_predictions = df_market_data_scaled.copy()


# Add a new column to the DataFrame with the predicted clusters
df_market_scaled_predictions["MarketCluster"]= market_clusters

# Display sample data
df_market_scaled_predictions.head()


# Create a scatter plot using hvPlot by setting 
df_market_scaled_predictions.hvplot.scatter(
    x="price_change_percentage_24h",
    y="price_change_percentage_7d",
    by="MarketCluster", # Color the graph points with the labels found using K-Means and 
    hover_cols= "coin_id" # identify the cryptocurrency represented by each data point.
)








# Create a PCA model instance and set `n_components=3`.
pca = PCA(n_components=3)


# Use the PCA model with `fit_transform` to reduce to three principal components.
market_pca = pca.fit_transform(df_market_scaled_predictions)

# View the first five rows of the DataFrame. 
market_pca[:5]


# Retrieve the explained variance to determine how much information 
# can be attributed to each principal component.
pca.explained_variance_ratio_


0.34871677+0.31363391+0.22627118





# Create a new DataFrame with the PCA data.
df_market_pca = pd.DataFrame(market_pca, columns=["PC1", "PC2", "PC3"])

# Copy the crypto names from the original data
df_market_pca['coin_id'] = df_market_data.index

# Set the coinid column as index
df_market_pca = df_market_pca.set_index('coin_id')

# Display sample data
df_market_pca.head()








# Create a list with the number of k-values from 1 to 11
k = list(range(1,11))


# Create an empty list to store the inertia values
inertia2 = []

# Create a for loop to compute the inertia with each possible value of k
# 1. Create a KMeans model using the loop counter for the n_clusters
# 2. Fit the model to the data
# 3. Append the model.inertia_ to the inertia list
for i in k:
    k_model = KMeans(n_clusters=i, random_state=42)
    k_model.fit(df_market_pca)
    inertia2.append(k_model.inertia_)



# Create a dictionary with the data to plot the Elbow curve
elbow_data2 = {"k": k, "inertia": inertia2}

# Create a DataFrame with the data to plot the Elbow curve
df_elbow2 = pd.DataFrame(elbow_data2)

#Review the DataFrame
df_elbow2.head()


# Plot a line chart with all the inertia values computed with 
# the different values of k to visually identify the optimal value for k.
df_elbow2.hvplot.line(
    x="k",
    y="inertia",
    title= "Elbow Curve 2",
    xticks=k
)








# Initialize the K-Means model using the best value for k
pca_kmeans = KMeans(n_clusters=4, random_state=42)


# Fit the K-Means model using the PCA data
pca_kmeans.fit(df_market_pca)


# Predict the clusters to group the cryptocurrencies using the PCA data
pca_clusters = pca_kmeans.predict(df_market_pca)

# Print the resulting array of cluster values.
print(pca_clusters)


# Compute centers for predicted clusters
predicted_cluster_centers = pca_kmeans.cluster_centers_


# Create a copy of the DataFrame with the PCA data
pca_predictions_df = df_market_pca.copy()

# Add a new column to the DataFrame with the predicted clusters
pca_predictions_df["PredictedClusters"] = pca_clusters

# Display sample data
pca_predictions_df.head()


# Create a scatter plot using hvPlot by setting 
# `x="PC1"` and `y="PC2"`. 
# Color the graph points with the labels found using K-Means and 
# add the crypto name in the `hover_cols` parameter to identify 
# the cryptocurrency represented by each data point.
pca_predictions_df.hvplot.scatter(
    x="PC1",
    y="PC2",
    by= "PredictedClusters",
    hover_cols= ["coin_id"] 
)





import holoviews as hv
hv.extension('bokeh')

# Composite plot to contrast the Elbow curves
elbow_curve1 = df_elbow1.hvplot.line(
    x="k",
    y="inertia",
    title="Elbow Curve Comparison",
    label="Elbow Curve 1",
    color='blue',
    xticks=k
)

# Create the second elbow curve plot
elbow_curve2 = df_elbow2.hvplot.line(
    x="k",
    y="inertia",
    label="Elbow Curve 2",
    color='red',
    xticks=k
)

# Combine the two plots into one composite plot
composite_plot = elbow_curve1 + elbow_curve2

# Display the composite plot
composite_plot.opts(title = "Elbow Curve Comparison")


# Define distinct color palettes for each plot
color_palette1 = hv.Cycle(['teal', 'blue', 'yellow'])
color_palette2 = hv.Cycle(['maroon', 'orange', 'violet'])

# Composite plot to contrast the clusters
scatterplot1 = df_market_scaled_predictions.hvplot.scatter(
    x="price_change_percentage_24h",
    y="price_change_percentage_7d",
    by="MarketCluster",
    hover_cols= "coin_id",
    color=color_palette1
)

scatterplot2 = pca_predictions_df.hvplot.scatter(
    x="PC1",
    y="PC2",
    by= "PredictedClusters",
    hover_cols= ["coin_id"],
    color= color_palette2
)

composite_scatter = scatterplot1 * scatterplot2

#Display the composite scatterplot
composite_scatter.opts(title= "Scatter Plot Comparison")


import holoviews as hv

# Define a function to create circles
def create_circle(x_center, y_center, radius=0.5, n_points=100):
    theta = np.linspace(0, 2*np.pi, n_points)
    x = x_center + radius * np.cos(theta)
    y = y_center + radius * np.sin(theta)
    return pd.DataFrame({'x': x, 'y': y})

# Create circles for market clusters
market_circles = hv.Overlay([
    hv.Polygons([create_circle(center[0], center[1]).values]).opts(color='green', alpha=0.3)
    for center in market_cluster_centers
])

# Create circles for predicted clusters
predicted_circles = hv.Overlay([
    hv.Polygons([create_circle(center[0], center[1]).values]).opts(color='violet', alpha=0.3)
    for center in predicted_cluster_centers
])

# Create the scatter plots
scatterplot1 = df_market_scaled_predictions.hvplot.scatter(
    x="price_change_percentage_24h",
    y="price_change_percentage_7d",
    by="MarketCluster",
    hover_cols=["coin_id"],
    title= "KMeans Scatter Plot"
)

scatterplot2 = pca_predictions_df.hvplot.scatter(
    x="PC1",
    y="PC2",
    by="PredictedClusters",
    hover_cols=["coin_id"],
    title = "PCA Scatter Plot"
)

# Combine scatter plots with circles
composite_scatter = (scatterplot1 * market_circles) + (scatterplot2 * predicted_circles)

# Display the composite scatterplot
composite_scatter.opts(title="Scatter Plot Comparison")






